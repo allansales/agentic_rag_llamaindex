{
 "cells": [
  {
   "cell_type": "code",
   "execution_count": 1,
   "metadata": {},
   "outputs": [],
   "source": [
    "import os\n",
    "\n",
    "os.environ[\"LANGSMITH_API_KEY\"] = \"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\"\n",
    "os.environ[\"LANGSMITH_TRACING\"] = \"true\""
   ]
  },
  {
   "cell_type": "code",
   "execution_count": 2,
   "metadata": {},
   "outputs": [],
   "source": [
    "from langchain.prompts import PromptTemplate\n",
    "from langchain_groq import ChatGroq\n",
    "from langchain.chains.router.llm_router import RouterOutputParser\n",
    "from langchain_core.output_parsers import StrOutputParser\n",
    "\n",
    "llm = ChatGroq(\n",
    "    model=\"llama-3.1-70b-versatile\",\n",
    "    temperature=0,\n",
    "    max_tokens=None,\n",
    "    timeout=None,\n",
    "    max_retries=2,\n",
    ")"
   ]
  },
  {
   "cell_type": "code",
   "execution_count": 3,
   "metadata": {},
   "outputs": [],
   "source": [
    "# Primeira SequentialChain: Geração de nome de empresa e slogan\n",
    "\n",
    "# Passo 1: Gerar nome de empresa com base na descrição\n",
    "nome_empresa_prompt = PromptTemplate(\n",
    "    input_variables=[\"input\"],\n",
    "    template=\"Com base na descrição: '{input}', sugira um nome para uma empresa.\"\n",
    ")\n",
    "\n",
    "# Passo 2: Gerar slogan com base no nome da empresa\n",
    "slogan_empresa_prompt = PromptTemplate(\n",
    "    input_variables=[\"nome\"],\n",
    "    template=\"Com base no nome da empresa '{nome}', sugira um slogan para uma campanha de propaganda.\"\n",
    ")\n",
    "\n",
    "nome_empresa_chain = nome_empresa_prompt | llm | StrOutputParser()\n",
    "slogan_empresa_chain = slogan_empresa_prompt | llm | StrOutputParser()\n",
    "\n",
    "empresa_chain = nome_empresa_chain | slogan_empresa_chain\n"
   ]
  },
  {
   "cell_type": "code",
   "execution_count": 4,
   "metadata": {},
   "outputs": [],
   "source": [
    "# Segunda SequentialChain: Geração de nome de escola e slogan\n",
    "\n",
    "# Passo 1: Gerar nome de escola com base na descrição\n",
    "nome_escola_prompt = PromptTemplate(\n",
    "    input_variables=[\"input\"],\n",
    "    template=\"Com base na descrição: '{input}', sugira um nome para uma escola.\"\n",
    ")\n",
    "\n",
    "# Passo 2: Gerar slogan com base no nome da escola\n",
    "slogan_escola_prompt = PromptTemplate(\n",
    "    input_variables=[\"nome\"],\n",
    "    template=\"Com base no nome da escola '{nome}', sugira um slogan para uma campanha de propaganda.\"\n",
    ")\n",
    "\n",
    "nome_escola_chain = nome_escola_prompt | llm | StrOutputParser()\n",
    "slogan_escola_chain = slogan_escola_prompt | llm | StrOutputParser()\n",
    "\n",
    "escola_chain = nome_escola_chain | slogan_escola_chain"
   ]
  },
  {
   "cell_type": "code",
   "execution_count": 5,
   "metadata": {},
   "outputs": [],
   "source": [
    "default_prompt = PromptTemplate(\n",
    "    input_variables=[\"input\"],\n",
    "    template=\"Dado um prompt a seguir ```{input}```, responda\"\n",
    ")\n",
    "\n",
    "default_chain = default_prompt | llm | StrOutputParser()"
   ]
  },
  {
   "cell_type": "code",
   "execution_count": 6,
   "metadata": {},
   "outputs": [],
   "source": [
    "MULTI_PROMPT_ROUTER_TEMPLATE = r\"\"\"\n",
    "Dado um texto de entrada, seleciona o prompt que melhor se encaixa para a entrada.\n",
    "Você será provido com um nome e uma descrição de situação em que o prompt deve ser utilizado.\n",
    "\n",
    "<< Formatação >>\n",
    "Retorne um código markdown com um objeto JSON formatado da seguinte forma:\n",
    "\n",
    "```json\n",
    "{{{{\n",
    "    \"destination\": string \\ nome do prompt usado ou \"DEFAULT\"\n",
    "    \"next_inputs\": string \\ o prompt de entrada\n",
    "}}}}\n",
    "```\n",
    "\n",
    "<< PROMPTS CANDIDATOS >>\n",
    "{destinations}\n",
    "\n",
    "<< ENTRADA >>\n",
    "{{input}}\n",
    "\n",
    "<< OUTPUT (lembre de incluir o ```json)>>\"\"\"\n",
    "\n",
    "destinations = \"\"\"\n",
    "'empresa: bom para responder sobre empresas\\nescola: bom para responder sobre escolas'\n",
    "\"\"\"\n",
    "\n",
    "router_template = MULTI_PROMPT_ROUTER_TEMPLATE.format(\n",
    "    destinations=destinations\n",
    ")\n",
    "\n",
    "router_prompt = PromptTemplate(\n",
    "    template=router_template,\n",
    "    input_variables=[\"input\"],\n",
    "    output_parser=RouterOutputParser(),\n",
    ")"
   ]
  },
  {
   "cell_type": "code",
   "execution_count": 7,
   "metadata": {},
   "outputs": [],
   "source": [
    "destination_chains = {}\n",
    "destination_chains['empresa'] = empresa_chain\n",
    "destination_chains['escola'] = escola_chain"
   ]
  },
  {
   "cell_type": "code",
   "execution_count": 8,
   "metadata": {},
   "outputs": [],
   "source": [
    "from operator import itemgetter\n",
    "from typing import Literal\n",
    "from typing_extensions import TypedDict\n",
    "from langchain_core.runnables import RunnableLambda\n",
    "\n",
    "def return_chain(x):\n",
    "    \n",
    "    if x[\"destination\"] == \"empresa\":\n",
    "        return(empresa_chain)\n",
    "    \n",
    "    if x['destination'] == \"escola\":\n",
    "        return(escola_chain)\n",
    "    \n",
    "    return(default_chain)\n",
    "\n",
    "class RouteQuery(TypedDict):\n",
    "    \"\"\"Route query to destination.\"\"\"\n",
    "    destination: Literal[\"empresa\", \"escola\", \"default\"]\n",
    "\n",
    "route_chain = (\n",
    "    router_prompt\n",
    "    | llm.with_structured_output(RouteQuery)\n",
    "    | itemgetter(\"destination\")\n",
    ")\n",
    "\n",
    "multi_prompt_chain = {\n",
    "    \"destination\": route_chain,\n",
    "    \"input\": lambda x: x[\"input\"],\n",
    "} | RunnableLambda(\n",
    "    lambda x: return_chain(x),\n",
    ")"
   ]
  },
  {
   "cell_type": "code",
   "execution_count": 9,
   "metadata": {},
   "outputs": [],
   "source": [
    "# Testando a estrutura\n",
    "descricao_empresa = \"Uma empresa de tecnologia focada em inteligência artificial.\"\n",
    "descricao_escola = \"Uma escola voltada para educação infantil e fundamental.\"\n",
    "descricao_outra_empresa = \"Um novo produto para jardinagem.\"\n",
    "descricao_outro = \"Rosas são vermelhas, violetas são azuis\""
   ]
  },
  {
   "cell_type": "code",
   "execution_count": 10,
   "metadata": {},
   "outputs": [
    {
     "name": "stdout",
     "output_type": "stream",
     "text": [
      "Com base nos nomes sugeridos, aqui estão algumas sugestões de slogans para uma campanha de propaganda:\n",
      "\n",
      "**Para Aurora AI**:\n",
      "* \"Iluminando o futuro com inteligência artificial\"\n",
      "* \"Despertando para uma nova era de conhecimento\"\n",
      "* \"Aurora AI: onde a tecnologia encontra a inovação\"\n",
      "\n",
      "**Para CerebroX**:\n",
      "* \"Desbloqueando o potencial da inteligência artificial\"\n",
      "* \"Pensando fora da caixa com CerebroX\"\n",
      "* \"A inteligência artificial que você precisa para avançar\"\n",
      "\n",
      "**Para MindSpark**:\n",
      "* \"Faíscas de criatividade, chamas de inovação\"\n",
      "* \"MindSpark: onde a inteligência artificial encontra a criatividade\"\n",
      "* \"Despertando a mente para um futuro brilhante\"\n",
      "\n",
      "**Para Nexa Inteligência**:\n",
      "* \"Conectando você ao futuro da inteligência artificial\"\n",
      "* \"Nexa Inteligência: a conexão que você precisa\"\n",
      "* \"Inteligência artificial para um mundo conectado\"\n",
      "\n",
      "**Para Pulse AI**:\n",
      "* \"O pulso da inovação, a batida da tecnologia\"\n",
      "* \"Pulse AI: onde a inteligência artificial encontra a energia\"\n",
      "* \"Sentindo o pulso do futuro\"\n",
      "\n",
      "**Para Synapse Tecnologia**:\n",
      "* \"Conectando a tecnologia ao seu cérebro\"\n",
      "* \"Synapse Tecnologia: a conexão que você precisa para avançar\"\n",
      "* \"A inteligência artificial que você precisa para se conectar\"\n",
      "\n",
      "**Para Cognita**:\n",
      "* \"Conhecimento é poder, Cognita é a chave\"\n",
      "* \"Cognita: onde a inteligência artificial encontra a compreensão\"\n",
      "* \"Despertando para um mundo de conhecimento\"\n",
      "\n",
      "**Para Luminar AI**:\n",
      "* \"Iluminando o caminho para o futuro\"\n",
      "* \"Luminar AI: onde a inteligência artificial encontra a luz\"\n",
      "* \"Despertando para um mundo de possibilidades\"\n",
      "\n",
      "Essas são apenas algumas sugestões, e é importante lembrar que o slogan deve ser único e refletir a identidade e os valores da empresa.\n"
     ]
    }
   ],
   "source": [
    "# Chamadas de teste\n",
    "print(multi_prompt_chain.invoke({\"input\":descricao_empresa}))"
   ]
  },
  {
   "cell_type": "code",
   "execution_count": 11,
   "metadata": {},
   "outputs": [
    {
     "name": "stdout",
     "output_type": "stream",
     "text": [
      "Aqui estão algumas sugestões de slogans para uma campanha de propaganda para a escola:\n",
      "\n",
      "1. **\"Cresça com a gente!\"** (para a Escola Crescer)\n",
      "2. **\"Aprenda, cresça, floresça!\"** (para o Jardim de Aprendizado)\n",
      "3. **\"Educação que transforma vidas!\"** (para a Escola Vida)\n",
      "4. **\"A felicidade começa aqui!\"** (para a Criança Feliz)\n",
      "5. **\"Semeando conhecimento, colhendo sucesso!\"** (para a Escola Semente)\n",
      "6. **\"Aprenda com alegria, cresça com confiança!\"** (para o Aprendizado e Alegria)\n",
      "7. **\"Raízes fortes, futuro brilhante!\"** (para a Escola Raízes)\n",
      "8. **\"O conhecimento é a chave para o sucesso!\"** (para a Casa do Conhecimento)\n",
      "9. **\"Sonhe grande, alcance o impossível!\"** (para a Escola Sonhos)\n",
      "10. **\"Jardim de sonhos, onde o futuro começa!\"** (para o Jardim de Sonhos)\n",
      "\n",
      "Esses slogans buscam ressaltar a importância da educação e do crescimento pessoal, além de destacar a missão e os valores da escola. Lembre-se de que o slogan ideal deve ser curto, memorável e transmitir a essência da escola.\n",
      "\n",
      "Aqui estão algumas sugestões adicionais de slogans que podem ser adaptadas para qualquer uma das opções de nome:\n",
      "\n",
      "* **\"Educação de qualidade, para um futuro brilhante!\"**\n",
      "* **\"Aprenda, cresça, seja o melhor!\"**\n",
      "* **\"Onde o conhecimento é a chave para o sucesso!\"**\n",
      "* **\"Cresça com confiança, alcance o impossível!\"**\n",
      "* **\"A escola que inspira sonhos e realiza objetivos!\"**\n",
      "\n",
      "Espero que essas sugestões sejam úteis!\n"
     ]
    }
   ],
   "source": [
    "print(multi_prompt_chain.invoke({\"input\":descricao_escola}))"
   ]
  },
  {
   "cell_type": "code",
   "execution_count": 12,
   "metadata": {},
   "outputs": [
    {
     "name": "stdout",
     "output_type": "stream",
     "text": [
      "Aqui estão algumas sugestões de slogans para uma campanha de propaganda para uma empresa de jardinagem com base nos nomes sugeridos anteriormente:\n",
      "\n",
      "1. **VerdeVida**: \"Viva a vida ao ar livre\" ou \"Transforme seu espaço em um oásis\".\n",
      "2. **JardimPlus**: \"Mais beleza, mais vida\" ou \"O seu jardim, elevado ao próximo nível\".\n",
      "3. **Cultiva**: \"Cultive a beleza\" ou \"Ajude a natureza a florescer\".\n",
      "4. **TerraVerde**: \"Conecte-se com a natureza\" ou \"O seu jardim, um refúgio ecológico\".\n",
      "5. **Bloom**: \"Faça com que o seu jardim floresça\" ou \"A beleza da natureza, ao seu alcance\".\n",
      "6. **Jardinagem Inteligente**: \"Inove o seu jardim\" ou \"A tecnologia ao serviço da natureza\".\n",
      "7. **GreenCare**: \"Cuide do seu jardim, cuide do planeta\" ou \"O seu jardim, um refúgio sustentável\".\n",
      "8. **Semente & Sol**: \"Semeie a beleza\" ou \"Deixe o sol brilhar no seu jardim\".\n",
      "9. **Jardim Harmonia**: \"Encontre a harmonia na natureza\" ou \"O seu jardim, um refúgio de paz\".\n",
      "10. **Cresça com Nós**: \"Cresça com a natureza\" ou \"Junte-se a nós para criar um jardim incrível\".\n",
      "\n",
      "Espero que essas sugestões ajudem a inspirar a sua campanha de propaganda!\n"
     ]
    }
   ],
   "source": [
    "print(multi_prompt_chain.invoke({\"input\":descricao_outra_empresa}))"
   ]
  },
  {
   "cell_type": "code",
   "execution_count": 13,
   "metadata": {},
   "outputs": [
    {
     "name": "stdout",
     "output_type": "stream",
     "text": [
      "\"Mas eu prefiro as rosas azuis.\"\n"
     ]
    }
   ],
   "source": [
    "print(multi_prompt_chain.invoke({\"input\":descricao_outro}))"
   ]
  }
 ],
 "metadata": {
  "kernelspec": {
   "display_name": "base",
   "language": "python",
   "name": "python3"
  },
  "language_info": {
   "codemirror_mode": {
    "name": "ipython",
    "version": 3
   },
   "file_extension": ".py",
   "mimetype": "text/x-python",
   "name": "python",
   "nbconvert_exporter": "python",
   "pygments_lexer": "ipython3",
   "version": "3.12.4"
  }
 },
 "nbformat": 4,
 "nbformat_minor": 2
}
