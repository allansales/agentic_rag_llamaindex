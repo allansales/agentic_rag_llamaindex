{
 "cells": [
  {
   "cell_type": "code",
   "execution_count": 9,
   "metadata": {},
   "outputs": [],
   "source": [
    "import os\n",
    "\n",
    "os.environ[\"LANGSMITH_API_KEY\"] = \"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\"\n",
    "os.environ[\"LANGSMITH_TRACING\"] = \"true\""
   ]
  },
  {
   "cell_type": "code",
   "execution_count": 10,
   "metadata": {},
   "outputs": [],
   "source": [
    "from langchain.chains import MultiPromptChain, SequentialChain, LLMChain\n",
    "from langchain.prompts import PromptTemplate\n",
    "from langchain_groq import ChatGroq\n",
    "from langchain.chains.router.llm_router import LLMRouterChain, RouterOutputParser\n",
    "from langchain_core.output_parsers import StrOutputParser\n",
    "\n",
    "llm = ChatGroq(\n",
    "    model=\"llama-3.1-70b-versatile\",\n",
    "    temperature=0,\n",
    "    max_tokens=None,\n",
    "    timeout=None,\n",
    "    max_retries=2,\n",
    ")"
   ]
  },
  {
   "cell_type": "code",
   "execution_count": 11,
   "metadata": {},
   "outputs": [],
   "source": [
    "# Primeira SequentialChain: Geração de nome de empresa e slogan\n",
    "\n",
    "# Passo 1: Gerar nome de empresa com base na descrição\n",
    "nome_empresa_prompt = PromptTemplate(\n",
    "    input_variables=[\"input\"],\n",
    "    template=\"Com base na descrição: '{input}', sugira um nome para uma empresa.\"\n",
    ")\n",
    "\n",
    "nome_empresa_chain = LLMChain(\n",
    "    llm=llm, \n",
    "    prompt=nome_empresa_prompt,\n",
    "    output_key=\"nome\"\n",
    ")\n",
    "\n",
    "# Passo 2: Gerar slogan com base no nome da empresa\n",
    "slogan_empresa_prompt = PromptTemplate(\n",
    "    input_variables=[\"nome\"],\n",
    "    template=\"Com base no nome da empresa '{nome}', sugira um slogan para uma campanha de propaganda.\"\n",
    ")\n",
    "\n",
    "slogan_empresa_chain = LLMChain(\n",
    "    llm=llm, \n",
    "    prompt=slogan_empresa_prompt,\n",
    "    output_key=\"slogan\"\n",
    ")\n",
    "\n",
    "# Definindo a primeira SequentialChain para empresas\n",
    "empresa_chain = SequentialChain(\n",
    "    chains=[nome_empresa_chain, slogan_empresa_chain],\n",
    "    input_variables=[\"input\"],\n",
    "    output_variables=[\"nome\", \"slogan\"]\n",
    ")"
   ]
  },
  {
   "cell_type": "code",
   "execution_count": 12,
   "metadata": {},
   "outputs": [],
   "source": [
    "# Segunda SequentialChain: Geração de nome de escola e slogan\n",
    "\n",
    "# Passo 1: Gerar nome de escola com base na descrição\n",
    "nome_escola_prompt = PromptTemplate(\n",
    "    input_variables=[\"input\"],\n",
    "    template=\"Com base na descrição: '{input}', sugira um nome para uma escola.\"\n",
    ")\n",
    "nome_escola_chain = LLMChain(\n",
    "    llm=llm, \n",
    "    prompt=nome_escola_prompt,\n",
    "    output_key=\"nome\"\n",
    ")\n",
    "\n",
    "# Passo 2: Gerar slogan com base no nome da escola\n",
    "slogan_escola_prompt = PromptTemplate(\n",
    "    input_variables=[\"nome\"],\n",
    "    template=\"Com base no nome da escola '{nome}', sugira um slogan para uma campanha de propaganda.\"\n",
    ")\n",
    "slogan_escola_chain = LLMChain(\n",
    "    llm=llm, \n",
    "    prompt=slogan_escola_prompt, \n",
    "    output_key=\"slogan\"\n",
    ")\n",
    "\n",
    "# Definindo a segunda SequentialChain para escolas\n",
    "escola_chain = SequentialChain(\n",
    "    chains=[nome_escola_chain, slogan_escola_chain],\n",
    "    input_variables=[\"input\"],\n",
    "    output_variables=[\"nome\", \"slogan\"]\n",
    ")"
   ]
  },
  {
   "cell_type": "code",
   "execution_count": 13,
   "metadata": {},
   "outputs": [],
   "source": [
    "default_prompt = PromptTemplate(\n",
    "    input_variables=[\"input\"],\n",
    "    template=\"Dado um prompt a seguir ```{input}```, responda\"\n",
    ")\n",
    "\n",
    "default_chain = default_prompt | llm | StrOutputParser()"
   ]
  },
  {
   "cell_type": "code",
   "execution_count": 14,
   "metadata": {},
   "outputs": [],
   "source": [
    "MULTI_PROMPT_ROUTER_TEMPLATE = r\"\"\"\n",
    "Dado um texto de entrada, seleciona o prompt que melhor se encaixa para a entrada.\n",
    "Você será provido com um nome e uma descrição de situação em que o prompt deve ser utilizado.\n",
    "\n",
    "<< Formatação >>\n",
    "Retorne um código markdown com um objeto JSON formatado da seguinte forma:\n",
    "\n",
    "```json\n",
    "{{{{\n",
    "    \"destination\": string \\ nome do prompt usado ou \"DEFAULT\"\n",
    "    \"next_inputs\": string \\ o prompt de entrada\n",
    "}}}}\n",
    "```\n",
    "\n",
    "<< PROMPTS CANDIDATOS >>\n",
    "{destinations}\n",
    "\n",
    "<< ENTRADA >>\n",
    "{{input}}\n",
    "\n",
    "<< OUTPUT (lembre de incluir o ```json)>>\"\"\"\n",
    "\n",
    "destinations = \"\"\"\n",
    "'empresa: bom para responder sobre empresas\\nescola: bom para responder sobre escolas'\n",
    "\"\"\"\n",
    "\n",
    "router_template = MULTI_PROMPT_ROUTER_TEMPLATE.format(\n",
    "    destinations=destinations\n",
    ")\n",
    "\n",
    "router_prompt = PromptTemplate(\n",
    "    template=router_template,\n",
    "    input_variables=[\"input\"],\n",
    "    output_parser=RouterOutputParser(),\n",
    ")\n",
    "\n",
    "router_chain = LLMRouterChain.from_llm(llm, router_prompt, verbose=True)"
   ]
  },
  {
   "cell_type": "code",
   "execution_count": 15,
   "metadata": {},
   "outputs": [],
   "source": [
    "destination_chains = {}\n",
    "destination_chains['empresa'] = empresa_chain\n",
    "destination_chains['escola'] = escola_chain"
   ]
  },
  {
   "cell_type": "code",
   "execution_count": 19,
   "metadata": {},
   "outputs": [],
   "source": [
    "from operator import itemgetter\n",
    "from typing import Literal\n",
    "from typing_extensions import TypedDict\n",
    "from langchain_core.runnables import RunnableLambda, RunnablePassthrough\n",
    "\n",
    "def return_chain(x):\n",
    "    \n",
    "    if x[\"destination\"] == \"empresa\":\n",
    "        return(empresa_chain)\n",
    "    \n",
    "    if x['destination'] == \"escola\":\n",
    "        return(escola_chain)\n",
    "    \n",
    "    return(default_chain)\n",
    "\n",
    "class RouteQuery(TypedDict):\n",
    "    \"\"\"Route query to destination.\"\"\"\n",
    "    destination: Literal[\"empresa\", \"escola\", \"default\"]\n",
    "\n",
    "route_chain = (\n",
    "    router_prompt\n",
    "    | llm.with_structured_output(RouteQuery)\n",
    "    | itemgetter(\"destination\")\n",
    ")\n",
    "\n",
    "multi_prompt_chain = {\n",
    "    \"destination\": route_chain,\n",
    "    \"input\": lambda x: x[\"input\"],\n",
    "} | RunnableLambda(\n",
    "    lambda x: return_chain(x),\n",
    ")"
   ]
  },
  {
   "cell_type": "code",
   "execution_count": 20,
   "metadata": {},
   "outputs": [
    {
     "name": "stdout",
     "output_type": "stream",
     "text": [
      "{'destination': 'empresa', 'input': 'Uma empresa de tecnologia focada em inteligência artificial.', 'nome': 'Aqui estão algumas sugestões de nomes para uma empresa de tecnologia focada em inteligência artificial:\\n\\n1. **Aurora AI**: \"Aurora\" sugere uma nova era de iluminação e conhecimento, enquanto \"AI\" destaca a especialização em inteligência artificial.\\n2. **CerebroX**: \"Cerebro\" é uma referência clara à inteligência e ao processamento de informações, enquanto \"X\" sugere uma abordagem inovadora e experimental.\\n3. **MindSpark**: \"Mind\" (mente) e \"Spark\" (faísca) sugerem a geração de ideias e soluções inovadoras através da inteligência artificial.\\n4. **Nexa Inteligência**: \"Nexa\" sugere conexão e integração, enquanto \"Inteligência\" destaca a especialização em IA.\\n5. **Pulse AI**: \"Pulse\" (pulso) sugere energia e vitalidade, enquanto \"AI\" destaca a especialização em inteligência artificial.\\n6. **Synapse Tecnologia**: \"Synapse\" (sinapse) é uma referência à conexão entre neurônios, sugerindo a capacidade de processar e integrar informações.\\n7. **Cognita**: \"Cognita\" vem do latim \"cognitio\", que significa conhecimento ou percepção, destacando a especialização em inteligência artificial.\\n8. **Axioma AI**: \"Axioma\" sugere uma verdade fundamental e inquestionável, enquanto \"AI\" destaca a especialização em inteligência artificial.\\n\\nEssas são apenas algumas sugestões, e é importante lembrar que o nome da empresa deve ser único e refletir a identidade e os valores da empresa.', 'slogan': 'Com base nos nomes sugeridos, aqui estão algumas sugestões de slogans para uma campanha de propaganda:\\n\\n**Para Aurora AI**:\\n* \"Iluminando o futuro com inteligência artificial\"\\n* \"Despertando para uma nova era de conhecimento\"\\n* \"Aurora AI: onde a tecnologia encontra a inovação\"\\n\\n**Para CerebroX**:\\n* \"Desbloqueando o potencial do seu cérebro\"\\n* \"Inovando a inteligência, um neurônio de cada vez\"\\n* \"CerebroX: onde a criatividade encontra a tecnologia\"\\n\\n**Para MindSpark**:\\n* \"Faíscas de inovação, ideias que brilham\"\\n* \"MindSpark: onde a mente encontra a tecnologia\"\\n* \"Despertando a criatividade, um spark de cada vez\"\\n\\n**Para Nexa Inteligência**:\\n* \"Conectando você ao futuro da inteligência\"\\n* \"Nexa Inteligência: onde a tecnologia encontra a inovação\"\\n* \"Inteligência conectada, soluções inovadoras\"\\n\\n**Para Pulse AI**:\\n* \"O pulso da inovação, a energia da inteligência\"\\n* \"Pulse AI: onde a tecnologia encontra a vitalidade\"\\n* \"Sentindo o pulso do futuro, com inteligência artificial\"\\n\\n**Para Synapse Tecnologia**:\\n* \"Conectando neurônios, criando soluções\"\\n* \"Synapse Tecnologia: onde a tecnologia encontra a inovação\"\\n* \"Inteligência conectada, um neurônio de cada vez\"\\n\\n**Para Cognita**:\\n* \"Conhecimento é poder, inteligência é a chave\"\\n* \"Cognita: onde a tecnologia encontra a sabedoria\"\\n* \"Despertando a percepção, um conhecimento de cada vez\"\\n\\n**Para Axioma AI**:\\n* \"Verdades fundamentais, soluções inovadoras\"\\n* \"Axioma AI: onde a tecnologia encontra a certeza\"\\n* \"Inteligência axiomática, soluções infalíveis\"\\n\\nEssas são apenas algumas sugestões, e é importante lembrar que o slogan deve ser único e refletir a identidade e os valores da empresa.'}\n",
      "{'destination': 'escola', 'input': 'Uma escola voltada para educação infantil e fundamental.', 'nome': 'Aqui estão algumas sugestões de nomes para uma escola voltada para educação infantil e fundamental:\\n\\n1. **Escola Crescer**: sugere o crescimento e desenvolvimento das crianças.\\n2. **Jardim de Aprendizado**: evoca a ideia de um ambiente acolhedor e estimulante para o aprendizado.\\n3. **Colégio Vida Nova**: sugere um novo começo e uma nova etapa na vida das crianças.\\n4. **Escola Sementes do Futuro**: destaca a importância da educação na formação das futuras gerações.\\n5. **Instituto de Educação Integral**: enfatiza a abordagem holística da educação.\\n6. **Escola Alegria de Aprender**: transmite a ideia de que o aprendizado deve ser uma experiência prazerosa.\\n7. **Colégio Criança Feliz**: prioriza a felicidade e o bem-estar das crianças.\\n8. **Escola Raízes e Asas**: sugere a ideia de que a educação deve fornecer uma base sólida para o crescimento e o desenvolvimento.\\n9. **Instituto de Desenvolvimento Infantil**: destaca a importância do desenvolvimento integral das crianças.\\n10. **Escola Sonhos e Realizações**: inspira as crianças a sonhar e alcançar seus objetivos.\\n\\nEssas são apenas algumas sugestões, e o nome ideal para a escola dependerá das suas valores, missão e visão.', 'slogan': 'Aqui estão algumas sugestões de slogans para uma campanha de propaganda para a escola:\\n\\n1. **\"Cresça com alegria, aprenda com amor\"** (para a Escola Alegria de Aprender)\\n2. **\"Semeando o futuro, uma criança de cada vez\"** (para a Escola Sementes do Futuro)\\n3. **\"Desenvolvendo mentes, criando sonhos\"** (para o Instituto de Desenvolvimento Infantil)\\n4. **\"Aprenda, cresça, brilhe\"** (para a Escola Crescer)\\n5. **\"Onde a educação é uma jornada de descoberta\"** (para o Jardim de Aprendizado)\\n6. **\"Formando cidadãos do futuro, com amor e respeito\"** (para o Colégio Vida Nova)\\n7. **\"A educação que você sempre quis para seu filho\"** (para o Instituto de Educação Integral)\\n8. **\"Onde a felicidade é o nosso objetivo\"** (para o Colégio Criança Feliz)\\n9. **\"Raízes fortes, asas para voar\"** (para a Escola Raízes e Asas)\\n10. **\"Transformando sonhos em realidades\"** (para a Escola Sonhos e Realizações)\\n\\nEsses slogans buscam capturar a essência da escola e transmitir a mensagem de que a educação é uma jornada de crescimento, descoberta e realização.'}\n",
      "{'destination': 'empresa', 'input': 'Um novo produto para jardinagem.', 'nome': 'Aqui estão algumas sugestões de nomes para uma empresa de jardinagem:\\n\\n1. **VerdeVida**: sugere uma conexão com a natureza e a vida.\\n2. **JardimPlus**: indica que a empresa oferece algo mais para o seu jardim.\\n3. **Cultiva**: enfatiza a ideia de cultivar e cuidar do seu jardim.\\n4. **TerraVerde**: combina a ideia de terra e verde, sugerindo um produto natural e ecológico.\\n5. **Bloom**: sugere a ideia de flores e plantas em flor, indicando um produto que ajuda a fazer com que o seu jardim floresça.\\n6. **Jardinagem Inteligente**: sugere que a empresa oferece soluções inovadoras e eficientes para o cuidado do jardim.\\n7. **GreenCare**: enfatiza a ideia de cuidar do meio ambiente e do seu jardim.\\n8. **Semente & Sol**: sugere uma conexão com a natureza e a ideia de crescimento.\\n9. **Jardim Harmonia**: indica que a empresa ajuda a criar um jardim em harmonia com a natureza.\\n10. **Cresça com Nós**: sugere uma parceria entre a empresa e o cliente para criar um jardim saudável e próspero.\\n\\nEspero que essas sugestões ajudem a inspirar o nome da sua empresa!', 'slogan': 'Aqui estão algumas sugestões de slogans para uma campanha de propaganda para uma empresa de jardinagem com base nos nomes sugeridos anteriormente:\\n\\n1. **VerdeVida**: \"Viva em harmonia com a natureza\"\\n2. **JardimPlus**: \"Transforme seu jardim em um paraíso\"\\n3. **Cultiva**: \"Cultive a beleza e a vida\"\\n4. **TerraVerde**: \"Conecte-se com a natureza, conecte-se com a vida\"\\n5. **Bloom**: \"Faça seu jardim florescer com alegria\"\\n6. **Jardinagem Inteligente**: \"Inove seu jardim, inove sua vida\"\\n7. **GreenCare**: \"Cuide do meio ambiente, cuide de si mesmo\"\\n8. **Semente & Sol**: \"Semeie a vida, cultive o amor\"\\n9. **Jardim Harmonia**: \"Encontre a paz no seu jardim\"\\n10. **Cresça com Nós**: \"Junte-se a nós para criar um jardim incrível\"\\n\\nAlém disso, aqui estão algumas sugestões de slogans mais gerais que podem ser adaptadas para qualquer empresa de jardinagem:\\n\\n* \"Transforme seu espaço, transforme sua vida\"\\n* \"Jardins saudáveis, vidas felizes\"\\n* \"Cultive a beleza, cultive a vida\"\\n* \"O seu jardim, o seu refúgio\"\\n* \"Faça do seu jardim um paraíso\"\\n\\nEspero que essas sugestões ajudem a inspirar a sua campanha de propaganda!'}\n",
      "\"Mas eu prefiro as rosas azuis e as violetas vermelhas.\"\n"
     ]
    }
   ],
   "source": [
    "# Testando a estrutura\n",
    "descricao_empresa = \"Uma empresa de tecnologia focada em inteligência artificial.\"\n",
    "descricao_escola = \"Uma escola voltada para educação infantil e fundamental.\"\n",
    "descricao_outra_empresa = \"Um novo produto para jardinagem.\"\n",
    "descricao_outro = \"Rosas são vermelhas, violetas são azuis\"\n",
    "\n",
    "# Chamadas de teste\n",
    "print(multi_prompt_chain.invoke({\"input\":descricao_empresa}))\n",
    "print(multi_prompt_chain.invoke({\"input\":descricao_escola}))\n",
    "print(multi_prompt_chain.invoke({\"input\":descricao_outra_empresa}))\n",
    "print(multi_prompt_chain.invoke({\"input\":descricao_outro}))"
   ]
  },
  {
   "cell_type": "code",
   "execution_count": null,
   "metadata": {},
   "outputs": [],
   "source": []
  }
 ],
 "metadata": {
  "kernelspec": {
   "display_name": "base",
   "language": "python",
   "name": "python3"
  },
  "language_info": {
   "codemirror_mode": {
    "name": "ipython",
    "version": 3
   },
   "file_extension": ".py",
   "mimetype": "text/x-python",
   "name": "python",
   "nbconvert_exporter": "python",
   "pygments_lexer": "ipython3",
   "version": "3.12.4"
  }
 },
 "nbformat": 4,
 "nbformat_minor": 2
}
