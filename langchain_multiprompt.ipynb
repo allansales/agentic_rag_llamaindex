{
 "cells": [
  {
   "cell_type": "code",
   "execution_count": 1,
   "metadata": {},
   "outputs": [],
   "source": [
    "import os\n",
    "\n",
    "os.environ[\"LANGSMITH_API_KEY\"] = \"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\"\n",
    "os.environ[\"LANGSMITH_TRACING\"] = \"true\""
   ]
  },
  {
   "cell_type": "code",
   "execution_count": 2,
   "metadata": {},
   "outputs": [],
   "source": [
    "from langchain.chains import MultiPromptChain, SequentialChain, LLMChain\n",
    "from langchain.prompts import PromptTemplate\n",
    "from langchain_groq import ChatGroq\n",
    "from langchain.chains.router.llm_router import LLMRouterChain, RouterOutputParser\n",
    "from langchain_core.output_parsers import StrOutputParser\n",
    "\n",
    "llm = ChatGroq(\n",
    "    model=\"llama-3.1-70b-versatile\",\n",
    "    temperature=0,\n",
    "    max_tokens=None,\n",
    "    timeout=None,\n",
    "    max_retries=2,\n",
    ")"
   ]
  },
  {
   "cell_type": "code",
   "execution_count": 3,
   "metadata": {},
   "outputs": [
    {
     "name": "stderr",
     "output_type": "stream",
     "text": [
      "C:\\Users\\allan\\AppData\\Local\\Temp\\ipykernel_33080\\103906494.py:9: LangChainDeprecationWarning: The class `LLMChain` was deprecated in LangChain 0.1.17 and will be removed in 1.0. Use :meth:`~RunnableSequence, e.g., `prompt | llm`` instead.\n",
      "  nome_empresa_chain = LLMChain(\n"
     ]
    }
   ],
   "source": [
    "# Primeira SequentialChain: Geração de nome de empresa e slogan\n",
    "\n",
    "# Passo 1: Gerar nome de empresa com base na descrição\n",
    "nome_empresa_prompt = PromptTemplate(\n",
    "    input_variables=[\"input\"],\n",
    "    template=\"Com base na descrição: '{input}', sugira um nome para uma empresa.\"\n",
    ")\n",
    "\n",
    "nome_empresa_chain = LLMChain(\n",
    "    llm=llm, \n",
    "    prompt=nome_empresa_prompt,\n",
    "    output_key=\"nome\"\n",
    ")\n",
    "\n",
    "# Passo 2: Gerar slogan com base no nome da empresa\n",
    "slogan_empresa_prompt = PromptTemplate(\n",
    "    input_variables=[\"nome\"],\n",
    "    template=\"Com base no nome da empresa '{nome}', sugira um slogan para uma campanha de propaganda.\"\n",
    ")\n",
    "\n",
    "slogan_empresa_chain = LLMChain(\n",
    "    llm=llm, \n",
    "    prompt=slogan_empresa_prompt,\n",
    "    output_key=\"slogan\"\n",
    ")\n",
    "\n",
    "# Definindo a primeira SequentialChain para empresas\n",
    "empresa_chain = SequentialChain(\n",
    "    chains=[nome_empresa_chain, slogan_empresa_chain],\n",
    "    input_variables=[\"input\"],\n",
    "    output_variables=[\"nome\", \"slogan\"]\n",
    ")"
   ]
  },
  {
   "cell_type": "code",
   "execution_count": 4,
   "metadata": {},
   "outputs": [],
   "source": [
    "# Segunda SequentialChain: Geração de nome de escola e slogan\n",
    "\n",
    "# Passo 1: Gerar nome de escola com base na descrição\n",
    "nome_escola_prompt = PromptTemplate(\n",
    "    input_variables=[\"input\"],\n",
    "    template=\"Com base na descrição: '{input}', sugira um nome para uma escola.\"\n",
    ")\n",
    "nome_escola_chain = LLMChain(\n",
    "    llm=llm, \n",
    "    prompt=nome_escola_prompt,\n",
    "    output_key=\"nome\"\n",
    ")\n",
    "\n",
    "# Passo 2: Gerar slogan com base no nome da escola\n",
    "slogan_escola_prompt = PromptTemplate(\n",
    "    input_variables=[\"nome\"],\n",
    "    template=\"Com base no nome da escola '{nome}', sugira um slogan para uma campanha de propaganda.\"\n",
    ")\n",
    "slogan_escola_chain = LLMChain(\n",
    "    llm=llm, \n",
    "    prompt=slogan_escola_prompt, \n",
    "    output_key=\"slogan\"\n",
    ")\n",
    "\n",
    "# Definindo a segunda SequentialChain para escolas\n",
    "escola_chain = SequentialChain(\n",
    "    chains=[nome_escola_chain, slogan_escola_chain],\n",
    "    input_variables=[\"input\"],\n",
    "    output_variables=[\"nome\", \"slogan\"]\n",
    ")"
   ]
  },
  {
   "cell_type": "code",
   "execution_count": 5,
   "metadata": {},
   "outputs": [],
   "source": [
    "default_prompt = PromptTemplate(\n",
    "    input_variables=[\"input\"],\n",
    "    template=\"Dado um prompt a seguir ```{input}```, responda\"\n",
    ")\n",
    "\n",
    "default_chain = default_prompt | llm | StrOutputParser()"
   ]
  },
  {
   "cell_type": "code",
   "execution_count": null,
   "metadata": {},
   "outputs": [],
   "source": [
    "MULTI_PROMPT_ROUTER_TEMPLATE = r\"\"\"\n",
    "Dado um texto de entrada, seleciona o prompt que melhor se encaixa para a entrada.\n",
    "Você será provido com um nome e uma descrição de situação em que o prompt deve ser utilizado.\n",
    "\n",
    "<< Formatação >>\n",
    "Retorne um código markdown com um objeto JSON formatado da seguinte forma:\n",
    "\n",
    "```json\n",
    "{{{{\n",
    "    \"destination\": string \\ nome do prompt usado ou \"DEFAULT\"\n",
    "    \"next_inputs\": string \\ o prompt de entrada\n",
    "}}}}\n",
    "```\n",
    "\n",
    "<< PROMPTS CANDIDATOS >>\n",
    "{destinations}\n",
    "\n",
    "<< ENTRADA >>\n",
    "{{input}}\n",
    "\n",
    "<< OUTPUT (lembre de incluir o ```json)>>\"\"\"\n",
    "\n",
    "destinations = \"\"\"\n",
    "'empresa: bom para responder sobre empresas\\nescola: bom para responder sobre escolas'\n",
    "\"\"\"\n",
    "\n",
    "router_template = MULTI_PROMPT_ROUTER_TEMPLATE.format(\n",
    "    destinations=destinations\n",
    ")\n",
    "\n",
    "router_prompt = PromptTemplate(\n",
    "    template=router_template,\n",
    "    input_variables=[\"input\"],\n",
    "    output_parser=RouterOutputParser(),\n",
    ")"
   ]
  },
  {
   "cell_type": "code",
   "execution_count": 7,
   "metadata": {},
   "outputs": [],
   "source": [
    "destination_chains = {}\n",
    "destination_chains['empresa'] = empresa_chain\n",
    "destination_chains['escola'] = escola_chain"
   ]
  },
  {
   "cell_type": "code",
   "execution_count": 8,
   "metadata": {},
   "outputs": [],
   "source": [
    "from operator import itemgetter\n",
    "from typing import Literal\n",
    "from typing_extensions import TypedDict\n",
    "from langchain_core.runnables import RunnableLambda, RunnablePassthrough\n",
    "\n",
    "def return_chain(x):\n",
    "    \n",
    "    if x[\"destination\"] == \"empresa\":\n",
    "        return(empresa_chain)\n",
    "    \n",
    "    if x['destination'] == \"escola\":\n",
    "        return(escola_chain)\n",
    "    \n",
    "    return(default_chain)\n",
    "\n",
    "class RouteQuery(TypedDict):\n",
    "    \"\"\"Route query to destination.\"\"\"\n",
    "    destination: Literal[\"empresa\", \"escola\", \"default\"]\n",
    "\n",
    "route_chain = (\n",
    "    router_prompt\n",
    "    | llm.with_structured_output(RouteQuery)\n",
    "    | itemgetter(\"destination\")\n",
    ")\n",
    "\n",
    "multi_prompt_chain = {\n",
    "    \"destination\": route_chain,\n",
    "    \"input\": lambda x: x[\"input\"],\n",
    "} | RunnableLambda(\n",
    "    lambda x: return_chain(x),\n",
    ")"
   ]
  },
  {
   "cell_type": "code",
   "execution_count": 9,
   "metadata": {},
   "outputs": [
    {
     "name": "stdout",
     "output_type": "stream",
     "text": [
      "{'destination': 'empresa', 'input': 'Uma empresa de tecnologia focada em inteligência artificial.', 'nome': 'Aqui estão algumas sugestões de nomes para uma empresa de tecnologia focada em inteligência artificial:\\n\\n1. **Aurora AI**: \"Aurora\" sugere uma nova era de iluminação e conhecimento, enquanto \"AI\" destaca a especialização em inteligência artificial.\\n2. **CerebroX**: \"Cerebro\" é uma referência clara à inteligência e ao processamento de informações, enquanto \"X\" sugere uma abordagem inovadora e experimental.\\n3. **MindSpark**: \"Mind\" (mente) e \"Spark\" (faísca) sugerem a geração de ideias e soluções inovadoras através da inteligência artificial.\\n4. **Nexa Inteligência**: \"Nexa\" sugere conexão e integração, enquanto \"Inteligência\" destaca a especialização em IA.\\n5. **Pulse AI**: \"Pulse\" (pulso) sugere energia e vitalidade, enquanto \"AI\" destaca a especialização em inteligência artificial.\\n6. **Synapse Tecnologia**: \"Synapse\" (sinapse) é uma referência clara à conexão e ao processamento de informações, enquanto \"Tecnologia\" destaca a abordagem inovadora.\\n7. **Cognita**: \"Cognita\" é uma palavra que sugere conhecimento e inteligência, tornando-a uma escolha apropriada para uma empresa de IA.\\n8. **Luminar AI**: \"Luminar\" sugere iluminação e conhecimento, enquanto \"AI\" destaca a especialização em inteligência artificial.\\n\\nEssas são apenas algumas sugestões, e é importante lembrar que o nome da empresa deve ser único e refletir a identidade e os valores da empresa.', 'slogan': 'Com base nos nomes sugeridos, aqui estão algumas sugestões de slogans para uma campanha de propaganda:\\n\\n**Para Aurora AI**:\\n* \"Iluminando o futuro com inteligência artificial\"\\n* \"Despertando para uma nova era de conhecimento\"\\n* \"Aurora AI: onde a tecnologia encontra a inovação\"\\n\\n**Para CerebroX**:\\n* \"Desbloqueando o potencial da inteligência artificial\"\\n* \"Pensando fora da caixa com CerebroX\"\\n* \"A inteligência artificial que você precisa para avançar\"\\n\\n**Para MindSpark**:\\n* \"Faíscas de criatividade, chamas de inovação\"\\n* \"MindSpark: onde a inteligência artificial encontra a criatividade\"\\n* \"Despertando a mente para um futuro brilhante\"\\n\\n**Para Nexa Inteligência**:\\n* \"Conectando você ao futuro da inteligência artificial\"\\n* \"Nexa Inteligência: a conexão que você precisa\"\\n* \"Inteligência artificial para um mundo conectado\"\\n\\n**Para Pulse AI**:\\n* \"O pulso da inovação, a batida da tecnologia\"\\n* \"Pulse AI: onde a inteligência artificial encontra a energia\"\\n* \"Sentindo o pulso do futuro\"\\n\\n**Para Synapse Tecnologia**:\\n* \"Conectando a tecnologia ao seu cérebro\"\\n* \"Synapse Tecnologia: a conexão que você precisa\"\\n* \"A inteligência artificial que você precisa para avançar\"\\n\\n**Para Cognita**:\\n* \"Conhecimento é poder, inteligência artificial é o futuro\"\\n* \"Cognita: a inteligência artificial que você precisa para saber\"\\n* \"Despertando para um mundo de conhecimento\"\\n\\n**Para Luminar AI**:\\n* \"Iluminando o caminho para o futuro\"\\n* \"Luminar AI: onde a inteligência artificial encontra a luz\"\\n* \"A inteligência artificial que você precisa para brilhar\"\\n\\nEssas são apenas algumas sugestões, e é importante lembrar que o slogan deve ser único e refletir a identidade e os valores da empresa.'}\n",
      "{'destination': 'escola', 'input': 'Uma escola voltada para educação infantil e fundamental.', 'nome': 'Aqui estão algumas sugestões de nomes para uma escola voltada para educação infantil e fundamental:\\n\\n1. **Escola Crescer**: sugere o crescimento e desenvolvimento das crianças.\\n2. **Jardim de Aprendizado**: evoca a ideia de um ambiente acolhedor e estimulante para o aprendizado.\\n3. **Colégio Vida Nova**: sugere um novo começo e uma nova etapa na vida das crianças.\\n4. **Escola Sementes do Futuro**: destaca a importância da educação na formação das futuras gerações.\\n5. **Instituto de Educação Integral**: enfatiza a abordagem holística da educação.\\n6. **Escola Alegria de Aprender**: transmite a ideia de que o aprendizado deve ser uma experiência prazerosa.\\n7. **Colégio Criança Feliz**: prioriza a felicidade e o bem-estar das crianças.\\n8. **Escola Raízes e Asas**: sugere a ideia de que a educação deve fornecer uma base sólida para o crescimento e o desenvolvimento.\\n9. **Instituto de Desenvolvimento Infantil**: destaca a importância do desenvolvimento integral das crianças.\\n10. **Escola Sonhos e Realizações**: inspira as crianças a sonhar e alcançar seus objetivos.\\n\\nEssas são apenas algumas sugestões, e o nome ideal para a escola dependerá das suas valores, missão e visão.', 'slogan': 'Aqui estão algumas sugestões de slogans para uma campanha de propaganda para a escola:\\n\\n1. **\"Cresça com alegria, aprenda com amor\"** (para a Escola Alegria de Aprender)\\n2. **\"Semeando o futuro, uma criança de cada vez\"** (para a Escola Sementes do Futuro)\\n3. **\"Desenvolvendo mentes, criando sonhos\"** (para o Instituto de Desenvolvimento Infantil)\\n4. **\"Aprenda, cresça, brilhe\"** (para a Escola Crescer)\\n5. **\"Onde a educação é uma jornada de descoberta\"** (para o Jardim de Aprendizado)\\n6. **\"Formando cidadãos do futuro, hoje\"** (para o Colégio Vida Nova)\\n7. **\"A educação que você sempre quis para seu filho\"** (para o Instituto de Educação Integral)\\n8. **\"Aprenda, divirta-se, cresça\"** (para o Colégio Criança Feliz)\\n9. **\"Raízes fortes, asas para voar\"** (para a Escola Raízes e Asas)\\n10. **\"Transformando sonhos em realidade\"** (para a Escola Sonhos e Realizações)\\n\\nEsses slogans buscam capturar a essência da escola e transmitir a mensagem de que a educação é uma jornada de crescimento, descoberta e realização.'}\n",
      "{'destination': 'empresa', 'input': 'Um novo produto para jardinagem.', 'nome': 'Aqui estão algumas sugestões de nomes para uma empresa de jardinagem:\\n\\n1. **VerdeVida**: sugere uma conexão com a natureza e a vida.\\n2. **JardimPlus**: indica que a empresa oferece algo mais para o seu jardim.\\n3. **Cultiva**: enfatiza a ideia de cultivar e cuidar do seu jardim.\\n4. **TerraVerde**: combina a ideia de terra e verde, sugerindo um produto natural e ecológico.\\n5. **Bloom**: sugere a ideia de flores e plantas em flor, indicando um produto que ajuda a fazer com que o seu jardim floresça.\\n6. **Jardinagem Inteligente**: sugere que a empresa oferece soluções inovadoras e eficientes para o cuidado do jardim.\\n7. **GreenCare**: enfatiza a ideia de cuidar do meio ambiente e do seu jardim.\\n8. **Semente & Sol**: sugere uma conexão com a natureza e a ideia de crescimento.\\n\\nEspero que essas sugestões ajudem a inspirar você a encontrar o nome perfeito para a sua empresa!', 'slogan': 'Aqui estão algumas sugestões de slogans para uma campanha de propaganda para uma empresa de jardinagem com base nos nomes sugeridos anteriormente:\\n\\n1. **VerdeVida**:\\n * \"Viva a vida ao ar livre\"\\n * \"Transforme seu espaço em um oásis\"\\n * \"Conecte-se com a natureza\"\\n\\n2. **JardimPlus**:\\n * \"Mais do que um jardim, um estilo de vida\"\\n * \"Adicione valor ao seu espaço\"\\n * \"O seu jardim, melhorado\"\\n\\n3. **Cultiva**:\\n * \"Cultive a beleza em seu jardim\"\\n * \"Ajude a natureza a florescer\"\\n * \"Cuide do seu jardim, cuidamos de você\"\\n\\n4. **TerraVerde**:\\n * \"Terra firme, verde eterno\"\\n * \"Conecte-se com a terra\"\\n * \"O seu jardim, um refúgio natural\"\\n\\n5. **Bloom**:\\n * \"Faça seu jardim florescer\"\\n * \"A beleza em flor\"\\n * \"Transforme seu espaço em um jardim de sonhos\"\\n\\n6. **Jardinagem Inteligente**:\\n * \"Jardinagem eficiente, jardim perfeito\"\\n * \"Inove seu jardim\"\\n * \"A tecnologia ao seu serviço\"\\n\\n7. **GreenCare**:\\n * \"Cuide do meio ambiente, cuidamos do seu jardim\"\\n * \"O seu jardim, um refúgio ecológico\"\\n * \"GreenCare: cuidando do seu jardim e do planeta\"\\n\\n8. **Semente & Sol**:\\n * \"Semeie a beleza, colha a alegria\"\\n * \"O sol brilha no seu jardim\"\\n * \"Cresça com a natureza\"\\n\\nEspero que essas sugestões ajudem a inspirar você a criar uma campanha de propaganda eficaz para a sua empresa de jardinagem!'}\n",
      "\"Mas eu prefiro as rosas azuis e as violetas vermelhas.\"\n"
     ]
    }
   ],
   "source": [
    "# Testando a estrutura\n",
    "descricao_empresa = \"Uma empresa de tecnologia focada em inteligência artificial.\"\n",
    "descricao_escola = \"Uma escola voltada para educação infantil e fundamental.\"\n",
    "descricao_outra_empresa = \"Um novo produto para jardinagem.\"\n",
    "descricao_outro = \"Rosas são vermelhas, violetas são azuis\"\n",
    "\n",
    "# Chamadas de teste\n",
    "print(multi_prompt_chain.invoke({\"input\":descricao_empresa}))\n",
    "print(multi_prompt_chain.invoke({\"input\":descricao_escola}))\n",
    "print(multi_prompt_chain.invoke({\"input\":descricao_outra_empresa}))\n",
    "print(multi_prompt_chain.invoke({\"input\":descricao_outro}))"
   ]
  },
  {
   "cell_type": "code",
   "execution_count": null,
   "metadata": {},
   "outputs": [],
   "source": []
  }
 ],
 "metadata": {
  "kernelspec": {
   "display_name": "base",
   "language": "python",
   "name": "python3"
  },
  "language_info": {
   "codemirror_mode": {
    "name": "ipython",
    "version": 3
   },
   "file_extension": ".py",
   "mimetype": "text/x-python",
   "name": "python",
   "nbconvert_exporter": "python",
   "pygments_lexer": "ipython3",
   "version": "3.12.4"
  }
 },
 "nbformat": 4,
 "nbformat_minor": 2
}
