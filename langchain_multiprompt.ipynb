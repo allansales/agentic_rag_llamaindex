{
 "cells": [
  {
   "cell_type": "code",
   "execution_count": 1,
   "metadata": {},
   "outputs": [],
   "source": [
    "import os\n",
    "\n",
    "os.environ[\"LANGSMITH_API_KEY\"] = \"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\"\n",
    "os.environ[\"LANGSMITH_TRACING\"] = \"true\""
   ]
  },
  {
   "cell_type": "code",
   "execution_count": 2,
   "metadata": {},
   "outputs": [],
   "source": [
    "from langchain.prompts import PromptTemplate\n",
    "from langchain_groq import ChatGroq\n",
    "from langchain.chains.router.llm_router import RouterOutputParser\n",
    "from langchain_core.output_parsers import StrOutputParser\n",
    "\n",
    "llm = ChatGroq(\n",
    "    model=\"llama-3.1-70b-versatile\",\n",
    "    temperature=0,\n",
    "    max_tokens=None,\n",
    "    timeout=None,\n",
    "    max_retries=2,\n",
    ")"
   ]
  },
  {
   "cell_type": "code",
   "execution_count": 3,
   "metadata": {},
   "outputs": [],
   "source": [
    "# Primeira SequentialChain: Geração de nome de empresa e slogan\n",
    "\n",
    "# Passo 1: Gerar nome de empresa com base na descrição\n",
    "nome_empresa_prompt = PromptTemplate(\n",
    "    input_variables=[\"input\"],\n",
    "    template=\"Com base na descrição: '{input}', sugira um nome para uma empresa.\"\n",
    ")\n",
    "\n",
    "# Passo 2: Gerar slogan com base no nome da empresa\n",
    "slogan_empresa_prompt = PromptTemplate(\n",
    "    input_variables=[\"nome\"],\n",
    "    template=\"Com base no nome da empresa '{nome}', sugira um slogan para uma campanha de propaganda.\"\n",
    ")\n",
    "\n",
    "nome_empresa_chain = nome_empresa_prompt | llm | StrOutputParser()\n",
    "slogan_empresa_chain = slogan_empresa_prompt | llm | StrOutputParser()\n",
    "\n",
    "empresa_chain = nome_empresa_chain | slogan_empresa_chain\n"
   ]
  },
  {
   "cell_type": "code",
   "execution_count": 4,
   "metadata": {},
   "outputs": [],
   "source": [
    "# Segunda SequentialChain: Geração de nome de escola e slogan\n",
    "\n",
    "# Passo 1: Gerar nome de escola com base na descrição\n",
    "nome_escola_prompt = PromptTemplate(\n",
    "    input_variables=[\"input\"],\n",
    "    template=\"Com base na descrição: '{input}', sugira um nome para uma escola.\"\n",
    ")\n",
    "\n",
    "# Passo 2: Gerar slogan com base no nome da escola\n",
    "slogan_escola_prompt = PromptTemplate(\n",
    "    input_variables=[\"nome\"],\n",
    "    template=\"Com base no nome da escola '{nome}', sugira um slogan para uma campanha de propaganda.\"\n",
    ")\n",
    "\n",
    "nome_escola_chain = nome_escola_prompt | llm | StrOutputParser()\n",
    "slogan_escola_chain = slogan_escola_prompt | llm | StrOutputParser()\n",
    "\n",
    "escola_chain = nome_escola_chain | slogan_escola_chain"
   ]
  },
  {
   "cell_type": "code",
   "execution_count": 5,
   "metadata": {},
   "outputs": [],
   "source": [
    "default_prompt = PromptTemplate(\n",
    "    input_variables=[\"input\"],\n",
    "    template=\"Dado um prompt a seguir ```{input}```, responda\"\n",
    ")\n",
    "\n",
    "default_chain = default_prompt | llm | StrOutputParser()"
   ]
  },
  {
   "cell_type": "code",
   "execution_count": 6,
   "metadata": {},
   "outputs": [],
   "source": [
    "MULTI_PROMPT_ROUTER_TEMPLATE = r\"\"\"\n",
    "Dado um texto de entrada, seleciona o prompt que melhor se encaixa para a entrada.\n",
    "Você será provido com um nome e uma descrição de situação em que o prompt deve ser utilizado.\n",
    "\n",
    "<< Formatação >>\n",
    "Retorne um código markdown com um objeto JSON formatado da seguinte forma:\n",
    "\n",
    "```json\n",
    "{{{{\n",
    "    \"destination\": string \\ nome do prompt usado ou \"DEFAULT\"\n",
    "    \"next_inputs\": string \\ o prompt de entrada\n",
    "}}}}\n",
    "```\n",
    "\n",
    "<< PROMPTS CANDIDATOS >>\n",
    "{destinations}\n",
    "\n",
    "<< ENTRADA >>\n",
    "{{input}}\n",
    "\n",
    "<< OUTPUT (lembre de incluir o ```json)>>\"\"\"\n",
    "\n",
    "destinations = \"\"\"\n",
    "'empresa: bom para responder sobre empresas\\nescola: bom para responder sobre escolas'\n",
    "\"\"\"\n",
    "\n",
    "router_template = MULTI_PROMPT_ROUTER_TEMPLATE.format(\n",
    "    destinations=destinations\n",
    ")\n",
    "\n",
    "router_prompt = PromptTemplate(\n",
    "    template=router_template,\n",
    "    input_variables=[\"input\"],\n",
    "    output_parser=RouterOutputParser(),\n",
    ")"
   ]
  },
  {
   "cell_type": "code",
   "execution_count": 7,
   "metadata": {},
   "outputs": [],
   "source": [
    "destination_chains = {}\n",
    "destination_chains['empresa'] = empresa_chain\n",
    "destination_chains['escola'] = escola_chain"
   ]
  },
  {
   "cell_type": "code",
   "execution_count": 8,
   "metadata": {},
   "outputs": [],
   "source": [
    "from operator import itemgetter\n",
    "from typing import Literal\n",
    "from typing_extensions import TypedDict\n",
    "from langchain_core.runnables import RunnableLambda\n",
    "\n",
    "def return_chain(x):\n",
    "    \n",
    "    if x[\"destination\"] == \"empresa\":\n",
    "        return(empresa_chain)\n",
    "    \n",
    "    if x['destination'] == \"escola\":\n",
    "        return(escola_chain)\n",
    "    \n",
    "    return(default_chain)\n",
    "\n",
    "class RouteQuery(TypedDict):\n",
    "    \"\"\"Route query to destination.\"\"\"\n",
    "    destination: Literal[\"empresa\", \"escola\", \"default\"]\n",
    "\n",
    "route_chain = (\n",
    "    router_prompt\n",
    "    | llm.with_structured_output(RouteQuery)\n",
    "    | itemgetter(\"destination\")\n",
    ")\n",
    "\n",
    "multi_prompt_chain = {\n",
    "    \"destination\": route_chain,\n",
    "    \"input\": lambda x: x[\"input\"],\n",
    "} | RunnableLambda(\n",
    "    lambda x: return_chain(x),\n",
    ")"
   ]
  },
  {
   "cell_type": "code",
   "execution_count": 9,
   "metadata": {},
   "outputs": [
    {
     "name": "stdout",
     "output_type": "stream",
     "text": [
      "Aqui estão algumas sugestões de slogans para uma campanha de propaganda para uma empresa de tecnologia focada em inteligência artificial:\n",
      "\n",
      "1. **\"Iluminando o futuro com IA\"** (para a empresa Luminar AI)\n",
      "2. **\"Conectando a inteligência humana e artificial\"** (para a empresa Nexa Inteligência)\n",
      "3. **\"A inteligência artificial que você precisa\"** (para a empresa CerebroX)\n",
      "4. **\"Desbloqueando o potencial da IA\"** (para a empresa MindSpark)\n",
      "5. **\"O pulso da inovação\"** (para a empresa Pulse AI)\n",
      "6. **\"Conhecimento e inovação em cada conexão\"** (para a empresa Synapse Tecnologia)\n",
      "7. **\"A inteligência que você precisa para o futuro\"** (para a empresa Cognita)\n",
      "8. **\"Aurora de uma nova era de IA\"** (para a empresa Aurora AI)\n",
      "\n",
      "Esses slogans buscam ressaltar a importância da inteligência artificial e a inovação que a empresa oferece, além de destacar a identidade e os valores da empresa.\n",
      "\n",
      "Além disso, aqui estão algumas sugestões de slogans mais genéricas que podem ser adaptadas para qualquer empresa de tecnologia focada em IA:\n",
      "\n",
      "* **\"Inovando o futuro com IA\"**\n",
      "* **\"A inteligência artificial que você precisa para o sucesso\"**\n",
      "* **\"Desbloqueando o potencial da tecnologia\"**\n",
      "* **\"Conectando a inteligência humana e artificial para um futuro melhor\"**\n",
      "* **\"A tecnologia que você precisa para o futuro\"**\n",
      "\n",
      "Lembre-se de que o slogan deve ser curto, memorável e refletir a identidade e os valores da empresa.\n"
     ]
    }
   ],
   "source": [
    "# Chamadas de teste\n",
    "descricao_empresa = \"Uma empresa de tecnologia focada em inteligência artificial.\"\n",
    "print(multi_prompt_chain.invoke({\"input\":descricao_empresa}))"
   ]
  },
  {
   "cell_type": "code",
   "execution_count": 10,
   "metadata": {},
   "outputs": [
    {
     "name": "stdout",
     "output_type": "stream",
     "text": [
      "Aqui estão algumas sugestões de slogans para uma campanha de propaganda para a escola:\n",
      "\n",
      "1. **\"Cresça com alegria, aprenda com amor\"** (para a Escola Alegria de Aprender)\n",
      "2. **\"Semeando o futuro, uma criança de cada vez\"** (para a Escola Sementes do Futuro)\n",
      "3. **\"Desenvolvendo mentes, criando sonhos\"** (para o Instituto de Desenvolvimento Infantil)\n",
      "4. **\"Aprenda, cresça, brilhe\"** (para a Escola Crescer)\n",
      "5. **\"Onde a educação é uma jornada de descoberta\"** (para o Jardim de Aprendizado)\n",
      "6. **\"Formando cidadãos do futuro, hoje\"** (para o Colégio Vida Nova)\n",
      "7. **\"A educação que você sempre quis para seu filho\"** (para o Instituto de Educação Integral)\n",
      "8. **\"Aprenda, divirta-se, cresça\"** (para o Colégio Criança Feliz)\n",
      "9. **\"Raízes fortes, asas para voar\"** (para a Escola Raízes e Asas)\n",
      "10. **\"Transformando sonhos em realidade\"** (para a Escola Sonhos e Realizações)\n",
      "\n",
      "Esses slogans buscam capturar a essência da escola e transmitir a mensagem de que a educação é uma jornada de crescimento, descoberta e realização.\n"
     ]
    }
   ],
   "source": [
    "descricao_escola = \"Uma escola voltada para educação infantil e fundamental.\"\n",
    "print(multi_prompt_chain.invoke({\"input\":descricao_escola}))"
   ]
  },
  {
   "cell_type": "code",
   "execution_count": 11,
   "metadata": {},
   "outputs": [
    {
     "name": "stdout",
     "output_type": "stream",
     "text": [
      "Aqui estão algumas sugestões de slogans para uma campanha de propaganda para uma empresa de jardinagem com base nos nomes sugeridos anteriormente:\n",
      "\n",
      "1. **VerdeVida**: \"Viva a vida ao ar livre\" ou \"Transforme seu espaço em um oásis\".\n",
      "2. **JardimPlus**: \"Mais beleza, mais vida\" ou \"O seu jardim, elevado ao próximo nível\".\n",
      "3. **Cultiva**: \"Cultive a beleza\" ou \"Ajude a natureza a florescer\".\n",
      "4. **TerraVerde**: \"Conecte-se com a natureza\" ou \"O seu jardim, um refúgio ecológico\".\n",
      "5. **Bloom**: \"Faça com que o seu jardim floresça\" ou \"A beleza da natureza, ao seu alcance\".\n",
      "6. **Jardinagem Inteligente**: \"Inove o seu jardim\" ou \"A tecnologia ao serviço da natureza\".\n",
      "7. **GreenCare**: \"Cuide do seu jardim, cuide do planeta\" ou \"O seu jardim, um refúgio sustentável\".\n",
      "8. **Semente & Sol**: \"Semeie a beleza\" ou \"Deixe o sol brilhar no seu jardim\".\n",
      "9. **Jardim Harmonia**: \"Encontre a harmonia no seu jardim\" ou \"O seu jardim, um refúgio de paz\".\n",
      "10. **Cresça com Nós**: \"Cresça com a natureza\" ou \"Junte-se a nós para criar um jardim incrível\".\n",
      "\n",
      "Espero que essas sugestões ajudem a inspirar a sua campanha de propaganda!\n"
     ]
    }
   ],
   "source": [
    "descricao_outra_empresa = \"Um novo produto para jardinagem.\"\n",
    "print(multi_prompt_chain.invoke({\"input\":descricao_outra_empresa}))"
   ]
  },
  {
   "cell_type": "code",
   "execution_count": 12,
   "metadata": {},
   "outputs": [
    {
     "name": "stdout",
     "output_type": "stream",
     "text": [
      "\"Mas eu prefiro as rosas azuis e as violetas vermelhas.\"\n"
     ]
    }
   ],
   "source": [
    "descricao_outro = \"Rosas são vermelhas, violetas são azuis\"\n",
    "print(multi_prompt_chain.invoke({\"input\":descricao_outro}))"
   ]
  }
 ],
 "metadata": {
  "kernelspec": {
   "display_name": "base",
   "language": "python",
   "name": "python3"
  },
  "language_info": {
   "codemirror_mode": {
    "name": "ipython",
    "version": 3
   },
   "file_extension": ".py",
   "mimetype": "text/x-python",
   "name": "python",
   "nbconvert_exporter": "python",
   "pygments_lexer": "ipython3",
   "version": "3.12.4"
  }
 },
 "nbformat": 4,
 "nbformat_minor": 2
}
