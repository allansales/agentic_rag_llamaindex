{
 "cells": [
  {
   "cell_type": "code",
   "execution_count": 1,
   "metadata": {},
   "outputs": [],
   "source": [
    "import os\n",
    "\n",
    "os.environ[\"LANGSMITH_API_KEY\"] = \"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\"\n",
    "os.environ[\"LANGSMITH_TRACING\"] = \"true\""
   ]
  },
  {
   "cell_type": "code",
   "execution_count": 2,
   "metadata": {},
   "outputs": [],
   "source": [
    "from langchain.chains import MultiPromptChain, SequentialChain, LLMChain\n",
    "from langchain.prompts import PromptTemplate\n",
    "from langchain_groq import ChatGroq\n",
    "from langchain.chains.router.llm_router import LLMRouterChain, RouterOutputParser\n",
    "from langchain_core.output_parsers import StrOutputParser\n",
    "\n",
    "llm = ChatGroq(\n",
    "    model=\"llama-3.1-70b-versatile\",\n",
    "    temperature=0,\n",
    "    max_tokens=None,\n",
    "    timeout=None,\n",
    "    max_retries=2,\n",
    ")"
   ]
  },
  {
   "cell_type": "code",
   "execution_count": 3,
   "metadata": {},
   "outputs": [
    {
     "name": "stderr",
     "output_type": "stream",
     "text": [
      "C:\\Users\\allan\\AppData\\Local\\Temp\\ipykernel_18748\\103906494.py:9: LangChainDeprecationWarning: The class `LLMChain` was deprecated in LangChain 0.1.17 and will be removed in 1.0. Use :meth:`~RunnableSequence, e.g., `prompt | llm`` instead.\n",
      "  nome_empresa_chain = LLMChain(\n"
     ]
    }
   ],
   "source": [
    "# Primeira SequentialChain: Geração de nome de empresa e slogan\n",
    "\n",
    "# Passo 1: Gerar nome de empresa com base na descrição\n",
    "nome_empresa_prompt = PromptTemplate(\n",
    "    input_variables=[\"input\"],\n",
    "    template=\"Com base na descrição: '{input}', sugira um nome para uma empresa.\"\n",
    ")\n",
    "\n",
    "nome_empresa_chain = LLMChain(\n",
    "    llm=llm, \n",
    "    prompt=nome_empresa_prompt,\n",
    "    output_key=\"nome\"\n",
    ")\n",
    "\n",
    "# Passo 2: Gerar slogan com base no nome da empresa\n",
    "slogan_empresa_prompt = PromptTemplate(\n",
    "    input_variables=[\"nome\"],\n",
    "    template=\"Com base no nome da empresa '{nome}', sugira um slogan para uma campanha de propaganda.\"\n",
    ")\n",
    "\n",
    "slogan_empresa_chain = LLMChain(\n",
    "    llm=llm, \n",
    "    prompt=slogan_empresa_prompt,\n",
    "    output_key=\"slogan\"\n",
    ")\n",
    "\n",
    "# Definindo a primeira SequentialChain para empresas\n",
    "empresa_chain = SequentialChain(\n",
    "    chains=[nome_empresa_chain, slogan_empresa_chain],\n",
    "    input_variables=[\"input\"],\n",
    "    output_variables=[\"nome\", \"slogan\"]\n",
    ")"
   ]
  },
  {
   "cell_type": "code",
   "execution_count": 4,
   "metadata": {},
   "outputs": [],
   "source": [
    "# Segunda SequentialChain: Geração de nome de escola e slogan\n",
    "\n",
    "# Passo 1: Gerar nome de escola com base na descrição\n",
    "nome_escola_prompt = PromptTemplate(\n",
    "    input_variables=[\"input\"],\n",
    "    template=\"Com base na descrição: '{input}', sugira um nome para uma escola.\"\n",
    ")\n",
    "nome_escola_chain = LLMChain(\n",
    "    llm=llm, \n",
    "    prompt=nome_escola_prompt,\n",
    "    output_key=\"nome\"\n",
    ")\n",
    "\n",
    "# Passo 2: Gerar slogan com base no nome da escola\n",
    "slogan_escola_prompt = PromptTemplate(\n",
    "    input_variables=[\"nome\"],\n",
    "    template=\"Com base no nome da escola '{nome}', sugira um slogan para uma campanha de propaganda.\"\n",
    ")\n",
    "slogan_escola_chain = LLMChain(\n",
    "    llm=llm, \n",
    "    prompt=slogan_escola_prompt, \n",
    "    output_key=\"slogan\"\n",
    ")\n",
    "\n",
    "# Definindo a segunda SequentialChain para escolas\n",
    "escola_chain = SequentialChain(\n",
    "    chains=[nome_escola_chain, slogan_escola_chain],\n",
    "    input_variables=[\"input\"],\n",
    "    output_variables=[\"nome\", \"slogan\"]\n",
    ")"
   ]
  },
  {
   "cell_type": "code",
   "execution_count": 5,
   "metadata": {},
   "outputs": [],
   "source": [
    "default_prompt = PromptTemplate(\n",
    "    input_variables=[\"input\"],\n",
    "    template=\"Dado um prompt a seguir ```{input}```, responda\"\n",
    ")\n",
    "\n",
    "default_chain = default_prompt | llm | StrOutputParser()"
   ]
  },
  {
   "cell_type": "code",
   "execution_count": 6,
   "metadata": {},
   "outputs": [],
   "source": [
    "MULTI_PROMPT_ROUTER_TEMPLATE = r\"\"\"\n",
    "Dado um texto de entrada, seleciona o prompt que melhor se encaixa para a entrada.\n",
    "Você será provido com um nome e uma descrição de situação em que o prompt deve ser utilizado.\n",
    "\n",
    "<< Formatação >>\n",
    "Retorne um código markdown com um objeto JSON formatado da seguinte forma:\n",
    "\n",
    "```json\n",
    "{{{{\n",
    "    \"destination\": string \\ nome do prompt usado ou \"DEFAULT\"\n",
    "    \"next_inputs\": string \\ o prompt de entrada\n",
    "}}}}\n",
    "```\n",
    "\n",
    "<< PROMPTS CANDIDATOS >>\n",
    "{destinations}\n",
    "\n",
    "<< ENTRADA >>\n",
    "{{input}}\n",
    "\n",
    "<< OUTPUT (lembre de incluir o ```json)>>\"\"\"\n",
    "\n",
    "destinations = \"\"\"\n",
    "'empresa: bom para responder sobre empresas\\nescola: bom para responder sobre escolas'\n",
    "\"\"\"\n",
    "\n",
    "router_template = MULTI_PROMPT_ROUTER_TEMPLATE.format(\n",
    "    destinations=destinations\n",
    ")\n",
    "\n",
    "router_prompt = PromptTemplate(\n",
    "    template=router_template,\n",
    "    input_variables=[\"input\"],\n",
    "    output_parser=RouterOutputParser(),\n",
    ")\n",
    "\n",
    "router_chain = LLMRouterChain.from_llm(llm, router_prompt, verbose=True)"
   ]
  },
  {
   "cell_type": "code",
   "execution_count": 7,
   "metadata": {},
   "outputs": [],
   "source": [
    "destination_chains = {}\n",
    "destination_chains['empresa'] = empresa_chain\n",
    "destination_chains['escola'] = escola_chain"
   ]
  },
  {
   "cell_type": "code",
   "execution_count": null,
   "metadata": {},
   "outputs": [
    {
     "data": {
      "text/plain": [
       "{'destination': PromptTemplate(input_variables=['input'], input_types={}, output_parser=RouterOutputParser(), partial_variables={}, template='\\nDado um texto de entrada, seleciona o prompt que melhor se encaixa para a entrada.\\nVocê será provido com um nome e uma descrição de situação em que o prompt deve ser utilizado.\\n\\n<< Formatação >>\\nRetorne um código markdown com um objeto JSON formatado da seguinte forma:\\n\\n```json\\n{{\\n    \"destination\": string \\\\ nome do prompt usado ou \"DEFAULT\"\\n    \"next_inputs\": string \\\\ o prompt de entrada\\n}}\\n```\\n\\n<< PROMPTS CANDIDATOS >>\\n\\n\\'empresa: bom para responder sobre empresas\\nescola: bom para responder sobre escolas\\'\\n\\n\\n<< ENTRADA >>\\n{input}\\n\\n<< OUTPUT (lembre de incluir o ```json)>>')\n",
       " | RunnableBinding(bound=ChatGroq(client=<groq.resources.chat.completions.Completions object at 0x0000023ABD316B10>, async_client=<groq.resources.chat.completions.AsyncCompletions object at 0x0000023ABD391DC0>, model_name='llama-3.1-70b-versatile', temperature=1e-08, model_kwargs={}, groq_api_key=SecretStr('**********')), kwargs={'tools': [{'type': 'function', 'function': {'name': 'RouteQuery', 'description': 'Route query to destination.', 'parameters': {'type': 'object', 'properties': {'destination': {'enum': ['empresa', 'escola', 'default'], 'type': 'string'}}, 'required': ['destination']}}}], 'tool_choice': {'type': 'function', 'function': {'name': 'RouteQuery'}}}, config={}, config_factories=[])\n",
       " | JsonOutputKeyToolsParser(first_tool_only=True, key_name='RouteQuery')\n",
       " | RunnableLambda(itemgetter('destination')),\n",
       " 'input': <function __main__.<lambda>(x)>}"
      ]
     },
     "execution_count": 11,
     "metadata": {},
     "output_type": "execute_result"
    }
   ],
   "source": [
    "from operator import itemgetter\n",
    "from typing import Literal\n",
    "from typing_extensions import TypedDict\n",
    "from langchain_core.runnables import RunnableLambda, RunnablePassthrough\n",
    "\n",
    "class RouteQuery(TypedDict):\n",
    "    \"\"\"Route query to destination.\"\"\"\n",
    "    destination: Literal[\"empresa\", \"escola\", \"default\"]\n",
    "\n",
    "\n",
    "route_chain = (\n",
    "    router_prompt\n",
    "    | llm.with_structured_output(RouteQuery)\n",
    "    | itemgetter(\"destination\")\n",
    ")\n",
    "\n",
    "multi_prompt_chain = {\n",
    "    \"destination\": route_chain,\n",
    "    \"input\": lambda x: x[\"input\"],\n",
    "} | RunnableLambda(\n",
    "    lambda x: empresa_chain if x[\"destination\"] == \"empresa\"  else escola_chain,\n",
    ")"
   ]
  },
  {
   "cell_type": "code",
   "execution_count": 10,
   "metadata": {},
   "outputs": [
    {
     "name": "stdout",
     "output_type": "stream",
     "text": [
      "{'destination': 'empresa', 'input': 'Uma empresa de tecnologia focada em inteligência artificial.', 'nome': 'Aqui estão algumas sugestões de nomes para uma empresa de tecnologia focada em inteligência artificial:\\n\\n1. **Aurora AI**: \"Aurora\" sugere uma nova era de iluminação e conhecimento, enquanto \"AI\" destaca a especialização em inteligência artificial.\\n2. **CerebroX**: \"Cerebro\" é uma referência clara à inteligência e ao processamento de informações, enquanto \"X\" sugere uma abordagem inovadora e experimental.\\n3. **MindSpark**: \"Mind\" (mente) e \"Spark\" (faísca) sugerem a geração de ideias e soluções inovadoras.\\n4. **Nexa Inteligência**: \"Nexa\" sugere conexão e integração, enquanto \"Inteligência\" destaca a especialização em IA.\\n5. **Pulse AI**: \"Pulse\" (pulso) sugere energia e vitalidade, enquanto \"AI\" destaca a especialização em inteligência artificial.\\n6. **Synapse Tecnologia**: \"Synapse\" (sinapse) é uma referência clara à conexão e ao processamento de informações, enquanto \"Tecnologia\" destaca a abordagem inovadora.\\n7. **Cognita**: \"Cognita\" é uma palavra que sugere conhecimento e compreensão, o que é fundamental para a inteligência artificial.\\n8. **Luminar AI**: \"Luminar\" sugere iluminação e compreensão, enquanto \"AI\" destaca a especialização em inteligência artificial.\\n\\nEssas são apenas algumas sugestões, e é importante lembrar que o nome da empresa deve ser único e refletir a identidade e os valores da empresa.', 'slogan': 'Com base nos nomes sugeridos, aqui estão algumas sugestões de slogans para uma campanha de propaganda:\\n\\n**Para Aurora AI**:\\n* \"Iluminando o futuro com inteligência artificial\"\\n* \"Despertando para uma nova era de conhecimento\"\\n* \"Aurora AI: onde a tecnologia encontra a inovação\"\\n\\n**Para CerebroX**:\\n* \"Desbloqueando o potencial do seu cérebro\"\\n* \"Inovando a inteligência, um passo de cada vez\"\\n* \"CerebroX: onde a criatividade encontra a tecnologia\"\\n\\n**Para MindSpark**:\\n* \"Faíscas de inovação, ideias que brilham\"\\n* \"MindSpark: onde a criatividade encontra a tecnologia\"\\n* \"Despertando a mente, iluminando o futuro\"\\n\\n**Para Nexa Inteligência**:\\n* \"Conectando pessoas, tecnologia e inovação\"\\n* \"Nexa Inteligência: onde a conexão encontra a inteligência\"\\n* \"Inteligência conectada, soluções inovadoras\"\\n\\n**Para Pulse AI**:\\n* \"O pulso da inovação, a batida da tecnologia\"\\n* \"Pulse AI: onde a energia encontra a inteligência\"\\n* \"Viva a inovação, sinta o pulso\"\\n\\n**Para Synapse Tecnologia**:\\n* \"Conectando ideias, criando soluções\"\\n* \"Synapse Tecnologia: onde a conexão encontra a inovação\"\\n* \"A sinapse da inovação, a tecnologia do futuro\"\\n\\n**Para Cognita**:\\n* \"Conhecimento é poder, inteligência é a chave\"\\n* \"Cognita: onde o conhecimento encontra a inovação\"\\n* \"Despertando a compreensão, iluminando o futuro\"\\n\\n**Para Luminar AI**:\\n* \"Iluminando o caminho para a inovação\"\\n* \"Luminar AI: onde a luz encontra a inteligência\"\\n* \"Despertando a compreensão, iluminando o futuro\"\\n\\nEssas são apenas algumas sugestões, e é importante lembrar que o slogan deve ser único e refletir a identidade e os valores da empresa.'}\n",
      "{'destination': 'escola', 'input': 'Uma escola voltada para educação infantil e fundamental.', 'nome': 'Aqui estão algumas sugestões de nomes para uma escola voltada para educação infantil e fundamental:\\n\\n1. **Escola Crescer**: sugere o crescimento e desenvolvimento das crianças.\\n2. **Jardim de Aprendizado**: evoca a ideia de um ambiente acolhedor e estimulante para o aprendizado.\\n3. **Escola Vida**: enfatiza a importância da educação na formação da vida das crianças.\\n4. **Criança Feliz**: destaca a importância da felicidade e do bem-estar das crianças no processo de aprendizado.\\n5. **Escola Semente**: sugere a ideia de plantar sementes para o futuro e cultivar o potencial das crianças.\\n6. **Aprendizado e Alegria**: combina a ideia de aprendizado com a alegria e o prazer de aprender.\\n7. **Escola Raízes**: enfatiza a importância de criar raízes sólidas para o futuro das crianças.\\n8. **Casa do Conhecimento**: sugere um ambiente acolhedor e estimulante para o aprendizado.\\n9. **Escola Sonhos**: destaca a importância de inspirar e motivar as crianças a alcançar seus sonhos.\\n10. **Jardim de Sonhos**: combina a ideia de um ambiente acolhedor com a inspiração para alcançar sonhos.\\n\\nEssas são apenas algumas sugestões, e o nome ideal para a escola dependerá das suas necessidades e objetivos específicos.', 'slogan': 'Aqui estão algumas sugestões de slogans para uma campanha de propaganda para a escola:\\n\\n1. **\"Cresça com alegria, aprenda com amor\"** (para a Escola Crescer)\\n2. **\"Desenvolva o seu potencial, um passo de cada vez\"** (para a Escola Vida)\\n3. **\"Aprenda, cresça e seja feliz\"** (para a Criança Feliz)\\n4. **\"Semeie o conhecimento, colha o sucesso\"** (para a Escola Semente)\\n5. **\"Aprendizado e alegria, um combo perfeito\"** (para a Aprendizado e Alegria)\\n6. **\"Raízes fortes, futuro brilhante\"** (para a Escola Raízes)\\n7. **\"Conhecimento e inspiração, para um futuro melhor\"** (para a Casa do Conhecimento)\\n8. **\"Sonhos grandes, comece aqui\"** (para a Escola Sonhos)\\n9. **\"Jardim de sonhos, onde o aprendizado é uma aventura\"** (para o Jardim de Sonhos)\\n10. **\"Educação de qualidade, para um futuro brilhante\"** (para uma escola que enfatize a qualidade da educação)\\n\\nEsses slogans podem ser usados em materiais de propaganda, como cartazes, anúncios impressos e online, e até mesmo em redes sociais. Lembre-se de que o slogan deve ser curto, memorável e transmitir a mensagem principal da escola.'}\n",
      "{'destination': 'empresa', 'input': 'Um novo produto para jardinagem.', 'nome': 'Aqui estão algumas sugestões de nomes para uma empresa de jardinagem:\\n\\n1. **VerdeVida**: sugere uma conexão com a natureza e a vida.\\n2. **JardimPlus**: indica que a empresa oferece algo mais além do básico para jardinagem.\\n3. **Cultiva**: enfatiza a ideia de cultivar e cuidar do jardim.\\n4. **TerraVerde**: combina a ideia de terra e verde, sugerindo um produto natural e ecológico.\\n5. **Bloom**: sugere a ideia de flores e plantas em flor, indicando um produto que ajuda a jardinagem a prosperar.\\n6. **Jardinagem Inteligente**: sugere que a empresa oferece soluções inovadoras e eficientes para jardinagem.\\n7. **GreenCare**: enfatiza a ideia de cuidar e proteger o meio ambiente.\\n8. **Semente**: sugere a ideia de crescimento e desenvolvimento, indicando um produto que ajuda a jardinagem a prosperar.\\n9. **Horta**: sugere a ideia de um jardim produtivo e saudável.\\n10. **Natureza em Casa**: sugere que a empresa ajuda a trazer a natureza para dentro de casa.\\n\\nEssas são apenas algumas sugestões, e o nome ideal para a empresa dependerá da sua identidade e valores.', 'slogan': 'Com base nas sugestões de nomes para a empresa de jardinagem, aqui estão algumas sugestões de slogans para uma campanha de propaganda:\\n\\n**Para VerdeVida:**\\n* \"Viva a vida ao ar livre\"\\n* \"Conecte-se com a natureza\"\\n* \"Verde é vida\"\\n\\n**Para JardimPlus:**\\n* \"Mais do que um jardim, uma experiência\"\\n* \"O seu jardim, elevado ao próximo nível\"\\n* \"JardimPlus: onde a beleza encontra a funcionalidade\"\\n\\n**Para Cultiva:**\\n* \"Cultive a beleza em seu jardim\"\\n* \"Cresça com a natureza\"\\n* \"O poder de cultivar\"\\n\\n**Para TerraVerde:**\\n* \"TerraVerde: onde a natureza encontra a tecnologia\"\\n* \"Verde é o novo preto\"\\n* \"TerraVerde: o futuro da jardinagem\"\\n\\n**Para Bloom:**\\n* \"Faça florescer seu jardim\"\\n* \"Bloom: onde a beleza encontra a vida\"\\n* \"Desenvolva o seu potencial\"\\n\\n**Para Jardinagem Inteligente:**\\n* \"Jardinagem inteligente para um futuro sustentável\"\\n* \"Inove seu jardim\"\\n* \"A inteligência em jardinagem\"\\n\\n**Para GreenCare:**\\n* \"Cuide da natureza, cuidamos de você\"\\n* \"GreenCare: o cuidado que a natureza merece\"\\n* \"Proteja o planeta, proteja seu jardim\"\\n\\n**Para Semente:**\\n* \"Semeie o futuro\"\\n* \"Cresça com a Semente\"\\n* \"O poder da semente\"\\n\\n**Para Horta:**\\n* \"Horta: onde a natureza encontra a produtividade\"\\n* \"Cultive a abundância\"\\n* \"Horta: o jardim produtivo\"\\n\\n**Para Natureza em Casa:**\\n* \"Traga a natureza para dentro de casa\"\\n* \"Natureza em Casa: onde a beleza encontra a funcionalidade\"\\n* \"Viva a natureza em sua própria casa\"\\n\\nEssas são apenas algumas sugestões, e o slogan ideal dependerá da identidade e valores da empresa, bem como do público-alvo da campanha de propaganda.'}\n"
     ]
    }
   ],
   "source": [
    "# Testando a estrutura\n",
    "descricao_empresa = \"Uma empresa de tecnologia focada em inteligência artificial.\"\n",
    "descricao_escola = \"Uma escola voltada para educação infantil e fundamental.\"\n",
    "descricao_outro = \"Um novo produto para jardinagem.\"\n",
    "\n",
    "# Chamadas de teste\n",
    "print(multi_prompt_chain.invoke({\"input\":descricao_empresa}))\n",
    "print(multi_prompt_chain.invoke({\"input\":descricao_escola}))\n",
    "print(multi_prompt_chain.invoke({\"input\":descricao_outro}))"
   ]
  },
  {
   "cell_type": "code",
   "execution_count": null,
   "metadata": {},
   "outputs": [],
   "source": []
  }
 ],
 "metadata": {
  "kernelspec": {
   "display_name": "base",
   "language": "python",
   "name": "python3"
  },
  "language_info": {
   "codemirror_mode": {
    "name": "ipython",
    "version": 3
   },
   "file_extension": ".py",
   "mimetype": "text/x-python",
   "name": "python",
   "nbconvert_exporter": "python",
   "pygments_lexer": "ipython3",
   "version": "3.12.4"
  }
 },
 "nbformat": 4,
 "nbformat_minor": 2
}
